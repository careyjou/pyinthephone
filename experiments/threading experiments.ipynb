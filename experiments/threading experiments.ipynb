{
 "metadata": {
  "name": ""
 },
 "nbformat": 3,
 "nbformat_minor": 0,
 "worksheets": [
  {
   "cells": [
    {
     "cell_type": "code",
     "collapsed": false,
     "input": [
      "import time\n",
      "import threading\n",
      "from sys import stdout\n",
      "\n",
      "g = 0\n",
      "\n",
      "def myfunc(i):\n",
      "    global g\n",
      "    \n",
      "    g += 1\n",
      "    print \"sleeping 5 sec from thread %d; g = %d\" % (i, g)\n",
      "    time.sleep(5)\n",
      "    print \"finished sleeping from thread %d\" % i\n",
      "\n",
      "for i in range(10):\n",
      "    t = threading.Thread(target=myfunc, args=(i,))\n",
      "    t.start()\n",
      "print sorted([thread.name for thread in threading.enumerate()])\n",
      "print \"Give it\",\n",
      "for t in range(6, 0, -1):\n",
      "    time.sleep(1)\n",
      "    print t, \"seconds...\"\n",
      "    stdout.flush()\n",
      "print \"Hokay.\""
     ],
     "language": "python",
     "metadata": {},
     "outputs": [
      {
       "output_type": "stream",
       "stream": "stdout",
       "text": [
        "finished sleeping from thread 0\n",
        "finished sleeping from thread 1\n",
        "finished sleeping from thread 2\n",
        "finished sleeping from thread 3\n",
        "finished sleeping from thread 4\n",
        "finished sleeping from thread 5\n",
        "finished sleeping from thread 6\n",
        "finished sleeping from thread 7\n",
        "finished sleeping from thread 8\n",
        "finished sleeping from thread 9\n",
        "sleeping 5 sec from thread 0; g = 1\n",
        "sleeping 5 sec from thread 1; g = 2\n",
        "sleeping 5 sec from thread 2; g = 3\n",
        "sleeping 5 sec from thread 3; g = 4\n",
        "sleeping 5 sec from thread 4; g = 5\n",
        "sleeping 5 sec from thread 5; g = 6\n",
        "sleeping 5 sec from thread 6; g = 7\n",
        "sleeping 5 sec from thread 7; g = 8\n",
        "sleeping 5 sec from thread 8; g = 9\n",
        "sleeping 5 sec from thread 9; g = 10\n",
        "['MainThread', 'Thread-1', 'Thread-159', 'Thread-160', 'Thread-161', 'Thread-162', 'Thread-163', 'Thread-164', 'Thread-165', 'Thread-166', 'Thread-167', 'Thread-168', 'Thread-2', 'Thread-3']"
       ]
      },
      {
       "output_type": "stream",
       "stream": "stdout",
       "text": [
        "\n",
        "Give it "
       ]
      },
      {
       "output_type": "stream",
       "stream": "stdout",
       "text": [
        "6 seconds...\n"
       ]
      },
      {
       "output_type": "stream",
       "stream": "stdout",
       "text": [
        "5 seconds...\n"
       ]
      },
      {
       "output_type": "stream",
       "stream": "stdout",
       "text": [
        "4 seconds...\n"
       ]
      },
      {
       "output_type": "stream",
       "stream": "stdout",
       "text": [
        "3 seconds...\n"
       ]
      },
      {
       "output_type": "stream",
       "stream": "stdout",
       "text": [
        "finished sleeping from thread 0\n",
        "finished sleeping from thread 1\n",
        "finished sleeping from thread 2\n",
        "finished sleeping from thread 3\n",
        "finished sleeping from thread 4\n",
        "finished sleeping from thread 5\n",
        "finished sleeping from thread 6\n",
        "finished sleeping from thread 7\n",
        "finished sleeping from thread 8\n",
        "finished sleeping from thread 9\n",
        "2 seconds...\n"
       ]
      },
      {
       "output_type": "stream",
       "stream": "stdout",
       "text": [
        "1 seconds...\n"
       ]
      },
      {
       "output_type": "stream",
       "stream": "stdout",
       "text": [
        "Hokay.\n"
       ]
      }
     ],
     "prompt_number": 17
    },
    {
     "cell_type": "code",
     "collapsed": false,
     "input": [
      "from multiprocessing import Process\n",
      "\n",
      "def f(name):\n",
      "    print 'hello', name\n",
      "\n",
      "if __name__ == '__main__':\n",
      "    p = Process(target=f, args=('zogo',))\n",
      "    p.start()\n",
      "    p.join()\n"
     ],
     "language": "python",
     "metadata": {},
     "outputs": [
      {
       "output_type": "stream",
       "stream": "stdout",
       "text": [
        "hello zogo\n"
       ]
      }
     ],
     "prompt_number": 19
    },
    {
     "cell_type": "code",
     "collapsed": false,
     "input": [],
     "language": "python",
     "metadata": {},
     "outputs": []
    }
   ],
   "metadata": {}
  }
 ]
}